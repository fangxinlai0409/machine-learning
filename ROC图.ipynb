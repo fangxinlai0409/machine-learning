{
 "cells": [
  {
   "cell_type": "code",
   "execution_count": 1,
   "metadata": {},
   "outputs": [
    {
     "name": "stdout",
     "output_type": "stream",
     "text": [
      "0    598\n",
      "1     46\n",
      "Name: predicted_label, dtype: int64\n",
      "   admit       gpa         gre  predicted_label\n",
      "0      0  3.177277  594.102992                0\n",
      "1      0  3.412655  631.528607                0\n",
      "2      0  2.728097  553.714399                0\n",
      "3      0  3.093559  551.089985                0\n",
      "4      0  3.141923  537.184894                0\n"
     ]
    },
    {
     "name": "stderr",
     "output_type": "stream",
     "text": [
      "d:\\ProgramData\\Anaconda3\\lib\\site-packages\\sklearn\\linear_model\\logistic.py:432: FutureWarning: Default solver will be changed to 'lbfgs' in 0.22. Specify a solver to silence this warning.\n",
      "  FutureWarning)\n"
     ]
    }
   ],
   "source": [
    "import pandas as pd\n",
    "import matplotlib.pyplot as plt\n",
    "from sklearn.linear_model import LogisticRegression\n",
    "admissions=pd.read_csv(\"d://python/sklearn/admissions.csv\")\n",
    "model=LogisticRegression()\n",
    "model.fit(admissions[[\"gpa\"]],admissions[\"admit\"])\n",
    "\n",
    "labels=model.predict(admissions[[\"gpa\"]])\n",
    "admissions[\"predicted_label\"]=labels\n",
    "print(admissions[\"predicted_label\"].value_counts())\n",
    "print(admissions.head())"
   ]
  },
  {
   "cell_type": "code",
   "execution_count": 2,
   "metadata": {},
   "outputs": [
    {
     "name": "stdout",
     "output_type": "stream",
     "text": [
      "   admit       gpa         gre  predicted_label  actual_label\n",
      "0      0  3.177277  594.102992                0             0\n",
      "1      0  3.412655  631.528607                0             0\n",
      "2      0  2.728097  553.714399                0             0\n",
      "3      0  3.093559  551.089985                0             0\n",
      "4      0  3.141923  537.184894                0             0\n",
      "0.6459627329192547\n"
     ]
    }
   ],
   "source": [
    "admissions[\"actual_label\"]=admissions[\"admit\"]\n",
    "matches=admissions[\"predicted_label\"]==admissions[\"actual_label\"]\n",
    "correct_predictions=admissions[matches]\n",
    "print(correct_predictions.head())\n",
    "accuracy=len(correct_predictions)/float(len(admissions))\n",
    "print(accuracy)"
   ]
  },
  {
   "cell_type": "code",
   "execution_count": 5,
   "metadata": {},
   "outputs": [
    {
     "name": "stdout",
     "output_type": "stream",
     "text": [
      "31\n",
      "385\n"
     ]
    }
   ],
   "source": [
    "true_positive_filter=(admissions[\"predicted_label\"]==1)&(admissions[\"actual_label\"]==1)\n",
    "true_positives=len(admissions[true_positive_filter])\n",
    "true_negative_filter=(admissions[\"predicted_label\"]==0)&(admissions[\"actual_label\"]==0)\n",
    "true_negatives=len(admissions[true_negative_filter])\n",
    "\n",
    "print(true_positives)\n",
    "print(true_negatives)"
   ]
  },
  {
   "cell_type": "code",
   "execution_count": 9,
   "metadata": {
    "scrolled": true
   },
   "outputs": [
    {
     "name": "stdout",
     "output_type": "stream",
     "text": [
      "0.12704918032786885\n"
     ]
    }
   ],
   "source": [
    "false_negative_filter=(admissions[\"predicted_label\"]==0)&(admissions[\"actual_label\"]==1)\n",
    "false_negatives=len(admissions[false_negative_filter])\n",
    "sensitivity=true_positives/float((true_positives+false_negatives))\n",
    "print(sensitivity)"
   ]
  },
  {
   "cell_type": "code",
   "execution_count": 10,
   "metadata": {},
   "outputs": [
    {
     "name": "stdout",
     "output_type": "stream",
     "text": [
      "0.9625\n"
     ]
    }
   ],
   "source": [
    "false_positive_filter=(admissions[\"predicted_label\"]==1)&(admissions[\"actual_label\"]==0)\n",
    "false_positives=len(admissions[false_positive_filter])\n",
    "specificity=(true_negatives)/float((false_positives+true_negatives))\n",
    "print(specificity)"
   ]
  },
  {
   "cell_type": "code",
   "execution_count": 11,
   "metadata": {},
   "outputs": [
    {
     "name": "stdout",
     "output_type": "stream",
     "text": [
      "          gpa         gre  predicted_label  actual_label\n",
      "260  3.414036  577.665610                0             0\n",
      "173  2.932147  564.798764                0             0\n",
      "256  2.674040  599.895858                0             0\n",
      "167  2.923581  622.524665                0             0\n",
      "400  3.414376  704.934217                0             1\n"
     ]
    }
   ],
   "source": [
    "import numpy as np\n",
    "np.random.seed(8)\n",
    "admissions=admissions.drop(\"admit\",axis=1)\n",
    "shuffled_index=np.random.permutation(admissions.index)\n",
    "shuffled_admissions=admissions.loc[shuffled_index]\n",
    "train=shuffled_admissions.iloc[0:515]\n",
    "test=shuffled_admissions.iloc[515:len(shuffled_admissions)]\n",
    "print(shuffled_admissions.head())"
   ]
  },
  {
   "cell_type": "code",
   "execution_count": 13,
   "metadata": {},
   "outputs": [
    {
     "name": "stderr",
     "output_type": "stream",
     "text": [
      "d:\\ProgramData\\Anaconda3\\lib\\site-packages\\sklearn\\linear_model\\logistic.py:432: FutureWarning: Default solver will be changed to 'lbfgs' in 0.22. Specify a solver to silence this warning.\n",
      "  FutureWarning)\n"
     ]
    },
    {
     "name": "stdout",
     "output_type": "stream",
     "text": [
      "0.6356589147286822\n"
     ]
    },
    {
     "name": "stderr",
     "output_type": "stream",
     "text": [
      "d:\\ProgramData\\Anaconda3\\lib\\site-packages\\ipykernel_launcher.py:4: SettingWithCopyWarning: \n",
      "A value is trying to be set on a copy of a slice from a DataFrame.\n",
      "Try using .loc[row_indexer,col_indexer] = value instead\n",
      "\n",
      "See the caveats in the documentation: http://pandas.pydata.org/pandas-docs/stable/indexing.html#indexing-view-versus-copy\n",
      "  after removing the cwd from sys.path.\n"
     ]
    }
   ],
   "source": [
    "model=LogisticRegression()\n",
    "model.fit(train[[\"gpa\"]],train[\"actual_label\"])\n",
    "labels=model.predict(test[[\"gpa\"]])\n",
    "test[\"predicted_label\"]=labels\n",
    "\n",
    "matches=test[\"predicted_label\"]==test[\"actual_label\"]\n",
    "correct_predictions=test[matches]\n",
    "accuracy=len(correct_predictions)/float(len(test))\n",
    "print(accuracy)"
   ]
  },
  {
   "cell_type": "code",
   "execution_count": 15,
   "metadata": {},
   "outputs": [
    {
     "name": "stdout",
     "output_type": "stream",
     "text": [
      "0.08333333333333333\n",
      "0.9629629629629629\n"
     ]
    }
   ],
   "source": [
    "true_positive_filter=(test[\"predicted_label\"]==1)&(test[\"actual_label\"]==1)\n",
    "true_positives=len(test[true_positive_filter])\n",
    "true_negative_filter=(test[\"predicted_label\"]==0)&(test[\"actual_label\"]==0)\n",
    "true_negatives=len(test[true_negative_filter])\n",
    "false_negative_filter=(test[\"predicted_label\"]==0)&(test[\"actual_label\"]==1)\n",
    "false_negatives=len(test[false_negative_filter])\n",
    "sensitivity=true_positives/float((true_positives+false_negatives))\n",
    "print(sensitivity)\n",
    "false_positive_filter=(test[\"predicted_label\"]==1)&(test[\"actual_label\"]==0)\n",
    "false_positives=len(test[false_positive_filter])\n",
    "specificity=(true_negatives)/float((false_positives+true_negatives))\n",
    "print(specificity)"
   ]
  },
  {
   "cell_type": "code",
   "execution_count": 17,
   "metadata": {},
   "outputs": [
    {
     "data": {
      "image/png": "[encoded data removed]",
      "text/plain": [
       "<Figure size 432x288 with 1 Axes>"
      ]
     },
     "metadata": {
      "needs_background": "light"
     },
     "output_type": "display_data"
    }
   ],
   "source": [
    "import matplotlib.pyplot as plt\n",
    "from sklearn import metrics\n",
    "\n",
    "probabilities=model.predict_proba(test[[\"gpa\"]])\n",
    "fpr,tpr,thresholds=metrics.roc_curve(test[\"actual_label\"],probabilities[:,1])\n",
    "plt.plot(fpr,tpr)\n",
    "plt.show()"
   ]
  },
  {
   "cell_type": "code",
   "execution_count": 18,
   "metadata": {},
   "outputs": [
    {
     "name": "stdout",
     "output_type": "stream",
     "text": [
      "0.5779320987654322\n"
     ]
    }
   ],
   "source": [
    "from sklearn.metrics import roc_auc_score\n",
    "probabilities=model.predict_proba(test[[\"gpa\"]])\n",
    "auc_score=roc_auc_score(test[\"actual_label\"],probabilities[:,1])\n",
    "print(auc_score)"
   ]
  },
  {
   "cell_type": "code",
   "execution_count": null,
   "metadata": {},
   "outputs": [],
   "source": []
  }
 ],
 "metadata": {
  "kernelspec": {
   "display_name": "Python 3",
   "language": "python",
   "name": "python3"
  },
  "language_info": {
   "codemirror_mode": {
    "name": "ipython",
    "version": 3
   },
   "file_extension": ".py",
   "mimetype": "text/x-python",
   "name": "python",
   "nbconvert_exporter": "python",
   "pygments_lexer": "ipython3",
   "version": "3.7.3"
  }
 },
 "nbformat": 4,
 "nbformat_minor": 2
}
