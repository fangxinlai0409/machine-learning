{
 "cells": [
  {
   "cell_type": "code",
   "execution_count": 1,
   "metadata": {},
   "outputs": [],
   "source": [
    "import xgboost"
   ]
  },
  {
   "cell_type": "code",
   "execution_count": 8,
   "metadata": {},
   "outputs": [
    {
     "name": "stdout",
     "output_type": "stream",
     "text": [
      "Accuracy:76.38%\n"
     ]
    }
   ],
   "source": [
    "import pandas\n",
    "from xgboost import XGBClassifier\n",
    "from sklearn.model_selection import train_test_split\n",
    "from sklearn.metrics import accuracy_score\n",
    "dataset=pandas.read_csv('d://python/Xgboost/pima-indians-diabetes.csv')\n",
    "X=dataset.values[:,0:8]\n",
    "Y=dataset.values[:,8]\n",
    "seed=7\n",
    "test_size=0.33\n",
    "X_train,X_test,y_train,y_test=train_test_split(X,Y,test_size=test_size,random_state=seed)\n",
    "model=XGBClassifier()\n",
    "model.fit(X_train,y_train)\n",
    "y_pred=model.predict(X_test)\n",
    "predictions=[round(value) for value in y_pred]\n",
    "accuracy=accuracy_score(y_test,predictions)\n",
    "print(\"Accuracy:%.2f%%\" % (accuracy*100.0))"
   ]
  },
  {
   "cell_type": "code",
   "execution_count": 9,
   "metadata": {},
   "outputs": [
    {
     "name": "stdout",
     "output_type": "stream",
     "text": [
      "[0]\tvalidation_0-logloss:0.660861\n",
      "Will train until validation_0-logloss hasn't improved in 0 rounds.\n",
      "[1]\tvalidation_0-logloss:0.634972\n",
      "[2]\tvalidation_0-logloss:0.611351\n",
      "[3]\tvalidation_0-logloss:0.592642\n",
      "[4]\tvalidation_0-logloss:0.575132\n",
      "[5]\tvalidation_0-logloss:0.563485\n",
      "[6]\tvalidation_0-logloss:0.549664\n",
      "[7]\tvalidation_0-logloss:0.541282\n",
      "[8]\tvalidation_0-logloss:0.530643\n",
      "[9]\tvalidation_0-logloss:0.521952\n",
      "[10]\tvalidation_0-logloss:0.515799\n",
      "[11]\tvalidation_0-logloss:0.509574\n",
      "[12]\tvalidation_0-logloss:0.503468\n",
      "[13]\tvalidation_0-logloss:0.499532\n",
      "[14]\tvalidation_0-logloss:0.493536\n",
      "[15]\tvalidation_0-logloss:0.490027\n",
      "[16]\tvalidation_0-logloss:0.485746\n",
      "[17]\tvalidation_0-logloss:0.481438\n",
      "[18]\tvalidation_0-logloss:0.479345\n",
      "[19]\tvalidation_0-logloss:0.477251\n",
      "[20]\tvalidation_0-logloss:0.472621\n",
      "[21]\tvalidation_0-logloss:0.470315\n",
      "[22]\tvalidation_0-logloss:0.469204\n",
      "[23]\tvalidation_0-logloss:0.466885\n",
      "[24]\tvalidation_0-logloss:0.46358\n",
      "[25]\tvalidation_0-logloss:0.461839\n",
      "[26]\tvalidation_0-logloss:0.460109\n",
      "[27]\tvalidation_0-logloss:0.458307\n",
      "[28]\tvalidation_0-logloss:0.456981\n",
      "[29]\tvalidation_0-logloss:0.457083\n",
      "Stopping. Best iteration:\n",
      "[28]\tvalidation_0-logloss:0.456981\n",
      "\n",
      "Accuracy:78.74%\n"
     ]
    }
   ],
   "source": [
    "import pandas\n",
    "from xgboost import XGBClassifier\n",
    "from sklearn.model_selection import train_test_split\n",
    "from sklearn.metrics import accuracy_score\n",
    "dataset=pandas.read_csv('d://python/Xgboost/pima-indians-diabetes.csv')\n",
    "X=dataset.values[:,0:8]\n",
    "Y=dataset.values[:,8]\n",
    "seed=7\n",
    "test_size=0.33\n",
    "X_train,X_test,y_train,y_test=train_test_split(X,Y,test_size=test_size,random_state=seed)\n",
    "model=XGBClassifier()\n",
    "eval_set=[(X_test,y_test)]\n",
    "model.fit(X_train,y_train,early_stopping_rounds=0,eval_metric=\"logloss\",eval_set=eval_set,verbose=True)\n",
    "y_pred=model.predict(X_test)\n",
    "predictions=[round(value) for value in y_pred]\n",
    "accuracy=accuracy_score(y_test,predictions)\n",
    "print(\"Accuracy:%.2f%%\" % (accuracy*100.0))"
   ]
  },
  {
   "cell_type": "code",
   "execution_count": 12,
   "metadata": {},
   "outputs": [
    {
     "data": {
      "image/png": "[encoded data removed]",
      "text/plain": [
       "<Figure size 432x288 with 1 Axes>"
      ]
     },
     "metadata": {
      "needs_background": "light"
     },
     "output_type": "display_data"
    }
   ],
   "source": [
    "from xgboost import plot_importance\n",
    "from matplotlib import pyplot\n",
    "model=XGBClassifier()\n",
    "model.fit(X,Y)\n",
    "plot_importance(model)\n",
    "pyplot.show()"
   ]
  },
  {
   "cell_type": "code",
   "execution_count": 14,
   "metadata": {},
   "outputs": [],
   "source": [
    "xgbl=XGBClassifier(\n",
    "learning_rate=0.1,\n",
    "    n_estimators=1000,\n",
    "    max_depth=5,\n",
    "    min_child_weight=1,\n",
    "    gamma=0,\n",
    "    subsample=0.8,\n",
    "    colsample_bytree=0.8,\n",
    "    objective='binary:logistic',\n",
    "    nthread=4,\n",
    "    scale_pos_weight=1,\n",
    "    seed=27\n",
    ")"
   ]
  },
  {
   "cell_type": "code",
   "execution_count": 19,
   "metadata": {},
   "outputs": [
    {
     "name": "stderr",
     "output_type": "stream",
     "text": [
      "d:\\ProgramData\\Anaconda3\\lib\\site-packages\\sklearn\\model_selection\\_search.py:813: DeprecationWarning: The default of the `iid` parameter will change from True to False in version 0.22 and will be removed in 0.24. This will change numeric results when test-set sizes are unequal.\n",
      "  DeprecationWarning)\n"
     ]
    },
    {
     "name": "stdout",
     "output_type": "stream",
     "text": [
      "Best:-0.481923 using {'learning_rate': 0.1}\n",
      "-0.689707 with: {'learning_rate': 0.0001}\n",
      "-0.660775 with: {'learning_rate': 0.001}\n",
      "-0.527197 with: {'learning_rate': 0.01}\n",
      "-0.481923 with: {'learning_rate': 0.1}\n",
      "-0.513463 with: {'learning_rate': 0.2}\n",
      "-0.563494 with: {'learning_rate': 0.3}\n"
     ]
    }
   ],
   "source": [
    "from sklearn.model_selection import GridSearchCV\n",
    "from sklearn.model_selection import StratifiedKFold\n",
    "\n",
    "dataset=pandas.read_csv('d://python/Xgboost/pima-indians-diabetes.csv')\n",
    "X=dataset.values[:,0:8]\n",
    "Y=dataset.values[:,8]\n",
    "model=XGBClassifier()\n",
    "learning_rate=[0.0001,0.001,0.01,0.1,0.2,0.3]\n",
    "param_grid=dict(learning_rate=learning_rate)\n",
    "kfold=StratifiedKFold(n_splits=10,shuffle=True,random_state=7)\n",
    "grid_search=GridSearchCV(model,param_grid,scoring=\"neg_log_loss\",n_jobs=-1,cv=kfold)\n",
    "grid_result=grid_search.fit(X,Y)\n",
    "print(\"Best:%f using %s\" %(grid_result.best_score_,grid_result.best_params_))\n",
    "means=grid_result.cv_results_['mean_test_score']\n",
    "params=grid_result.cv_results_['params']\n",
    "for mean,param in zip(means,params):\n",
    "    print(\"%f with: %r\" % (mean,param))\n",
    "    "
   ]
  },
  {
   "cell_type": "code",
   "execution_count": null,
   "metadata": {},
   "outputs": [],
   "source": []
  }
 ],
 "metadata": {
  "kernelspec": {
   "display_name": "Python 3",
   "language": "python",
   "name": "python3"
  },
  "language_info": {
   "codemirror_mode": {
    "name": "ipython",
    "version": 3
   },
   "file_extension": ".py",
   "mimetype": "text/x-python",
   "name": "python",
   "nbconvert_exporter": "python",
   "pygments_lexer": "ipython3",
   "version": "3.7.3"
  }
 },
 "nbformat": 4,
 "nbformat_minor": 2
}
