{
 "cells": [
  {
   "cell_type": "code",
   "execution_count": 1,
   "metadata": {},
   "outputs": [],
   "source": [
    "from gensim.models import word2vec\n",
    "import logging\n",
    "logging.basicConfig(format='%(asctime)s : %(levelname)s : %(message)s',level=logging.INFO)"
   ]
  },
  {
   "cell_type": "code",
   "execution_count": 2,
   "metadata": {},
   "outputs": [],
   "source": [
    "raw_sentences=[\"the quick brown fox jumps over the lazy dogs\",\"yoyoyo you go home now to sleep\"]"
   ]
  },
  {
   "cell_type": "code",
   "execution_count": 3,
   "metadata": {},
   "outputs": [
    {
     "name": "stdout",
     "output_type": "stream",
     "text": [
      "[['the', 'quick', 'brown', 'fox', 'jumps', 'over', 'the', 'lazy', 'dogs'], ['yoyoyo', 'you', 'go', 'home', 'now', 'to', 'sleep']]\n"
     ]
    }
   ],
   "source": [
    "sentences=[s.split() for s in raw_sentences]\n",
    "print(sentences)"
   ]
  },
  {
   "cell_type": "code",
   "execution_count": 4,
   "metadata": {},
   "outputs": [
    {
     "name": "stderr",
     "output_type": "stream",
     "text": [
      "d:\\ProgramData\\Anaconda3\\lib\\site-packages\\gensim\\models\\base_any2vec.py:743: UserWarning: C extension not loaded, training will be slow. Install a C compiler and reinstall gensim for fast training.\n",
      "  \"C extension not loaded, training will be slow. \"\n",
      "2019-08-28 17:59:54,961 : INFO : collecting all words and their counts\n",
      "2019-08-28 17:59:54,966 : INFO : PROGRESS: at sentence #0, processed 0 words, keeping 0 word types\n",
      "2019-08-28 17:59:54,971 : INFO : collected 15 word types from a corpus of 16 raw words and 2 sentences\n",
      "2019-08-28 17:59:54,978 : INFO : Loading a fresh vocabulary\n",
      "2019-08-28 17:59:54,979 : INFO : effective_min_count=1 retains 15 unique words (100% of original 15, drops 0)\n",
      "2019-08-28 17:59:54,982 : INFO : effective_min_count=1 leaves 16 word corpus (100% of original 16, drops 0)\n",
      "2019-08-28 17:59:54,986 : INFO : deleting the raw counts dictionary of 15 items\n",
      "2019-08-28 17:59:54,992 : INFO : sample=0.001 downsamples 15 most-common words\n",
      "2019-08-28 17:59:54,998 : INFO : downsampling leaves estimated 2 word corpus (13.7% of prior 16)\n",
      "2019-08-28 17:59:55,052 : INFO : estimated required memory for 15 words and 100 dimensions: 19500 bytes\n",
      "2019-08-28 17:59:55,053 : INFO : resetting layer weights\n",
      "2019-08-28 17:59:55,061 : INFO : training model with 3 workers on 15 vocabulary and 100 features, using sg=0 hs=0 sample=0.001 negative=5 window=5\n",
      "2019-08-28 17:59:55,068 : INFO : worker thread finished; awaiting finish of 2 more threads\n",
      "2019-08-28 17:59:55,072 : INFO : worker thread finished; awaiting finish of 1 more threads\n",
      "2019-08-28 17:59:55,318 : INFO : worker thread finished; awaiting finish of 0 more threads\n",
      "2019-08-28 17:59:55,319 : INFO : EPOCH - 1 : training on 16 raw words (3 effective words) took 0.3s, 12 effective words/s\n",
      "2019-08-28 17:59:55,331 : INFO : worker thread finished; awaiting finish of 2 more threads\n",
      "2019-08-28 17:59:55,335 : INFO : worker thread finished; awaiting finish of 1 more threads\n",
      "2019-08-28 17:59:55,340 : INFO : worker thread finished; awaiting finish of 0 more threads\n",
      "2019-08-28 17:59:55,344 : INFO : EPOCH - 2 : training on 16 raw words (4 effective words) took 0.0s, 315 effective words/s\n",
      "2019-08-28 17:59:55,361 : INFO : worker thread finished; awaiting finish of 2 more threads\n",
      "2019-08-28 17:59:55,367 : INFO : worker thread finished; awaiting finish of 1 more threads\n",
      "2019-08-28 17:59:55,370 : INFO : worker thread finished; awaiting finish of 0 more threads\n",
      "2019-08-28 17:59:55,372 : INFO : EPOCH - 3 : training on 16 raw words (2 effective words) took 0.0s, 198 effective words/s\n",
      "2019-08-28 17:59:55,387 : INFO : worker thread finished; awaiting finish of 2 more threads\n",
      "2019-08-28 17:59:55,391 : INFO : worker thread finished; awaiting finish of 1 more threads\n",
      "2019-08-28 17:59:55,395 : INFO : worker thread finished; awaiting finish of 0 more threads\n",
      "2019-08-28 17:59:55,401 : INFO : EPOCH - 4 : training on 16 raw words (2 effective words) took 0.0s, 140 effective words/s\n",
      "2019-08-28 17:59:55,416 : INFO : worker thread finished; awaiting finish of 2 more threads\n",
      "2019-08-28 17:59:55,419 : INFO : worker thread finished; awaiting finish of 1 more threads\n",
      "2019-08-28 17:59:55,424 : INFO : worker thread finished; awaiting finish of 0 more threads\n",
      "2019-08-28 17:59:55,428 : INFO : EPOCH - 5 : training on 16 raw words (4 effective words) took 0.0s, 324 effective words/s\n",
      "2019-08-28 17:59:55,429 : INFO : training on a 80 raw words (15 effective words) took 0.4s, 41 effective words/s\n",
      "2019-08-28 17:59:55,433 : WARNING : under 10 jobs per worker: consider setting a smaller `batch_words' for smoother alpha decay\n"
     ]
    }
   ],
   "source": [
    "model=word2vec.Word2Vec(sentences,min_count=1)"
   ]
  },
  {
   "cell_type": "code",
   "execution_count": 5,
   "metadata": {},
   "outputs": [
    {
     "name": "stderr",
     "output_type": "stream",
     "text": [
      "d:\\ProgramData\\Anaconda3\\lib\\site-packages\\ipykernel_launcher.py:1: DeprecationWarning: Call to deprecated `similarity` (Method will be removed in 4.0.0, use self.wv.similarity() instead).\n",
      "  \"\"\"Entry point for launching an IPython kernel.\n"
     ]
    },
    {
     "data": {
      "text/plain": [
       "0.1303401"
      ]
     },
     "execution_count": 5,
     "metadata": {},
     "output_type": "execute_result"
    }
   ],
   "source": [
    "model.similarity('dogs','you')"
   ]
  },
  {
   "cell_type": "code",
   "execution_count": null,
   "metadata": {},
   "outputs": [],
   "source": []
  }
 ],
 "metadata": {
  "kernelspec": {
   "display_name": "Python 3",
   "language": "python",
   "name": "python3"
  },
  "language_info": {
   "codemirror_mode": {
    "name": "ipython",
    "version": 3
   },
   "file_extension": ".py",
   "mimetype": "text/x-python",
   "name": "python",
   "nbconvert_exporter": "python",
   "pygments_lexer": "ipython3",
   "version": "3.7.3"
  }
 },
 "nbformat": 4,
 "nbformat_minor": 2
}
