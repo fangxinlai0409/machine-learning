{
 "cells": [
  {
   "cell_type": "code",
   "execution_count": 6,
   "metadata": {},
   "outputs": [
    {
     "name": "stdout",
     "output_type": "stream",
     "text": [
      "    mpg  cylinders  displacement horsepower  weight  acceleration  year  \\\n",
      "0  18.0          8         307.0      130.0  3504.0          12.0    70   \n",
      "1  15.0          8         350.0      165.0  3693.0          11.5    70   \n",
      "2  18.0          8         318.0      150.0  3436.0          11.0    70   \n",
      "3  16.0          8         304.0      150.0  3433.0          12.0    70   \n",
      "4  17.0          8         302.0      140.0  3449.0          10.5    70   \n",
      "\n",
      "   origin                   car name  \n",
      "0       1  chevrolet chevelle malibu  \n",
      "1       1          buick skylark 320  \n",
      "2       1         plymouth satellite  \n",
      "3       1              amc rebel sst  \n",
      "4       1                ford torino  \n"
     ]
    },
    {
     "name": "stderr",
     "output_type": "stream",
     "text": [
      "d:\\ProgramData\\Anaconda3\\lib\\site-packages\\ipykernel_launcher.py:4: FutureWarning: read_table is deprecated, use read_csv instead, passing sep='\\t'.\n",
      "  after removing the cwd from sys.path.\n"
     ]
    }
   ],
   "source": [
    "import pandas as pd\n",
    "import matplotlib.pyplot as plt\n",
    "columns=[\"mpg\",\"cylinders\",\"displacement\",\"horsepower\",\"weight\",\"acceleration\",\"year\",\"origin\",\"car name\"]\n",
    "cars=pd.read_table(\"d://python/sklearn/auto-mpg.data\",delim_whitespace=True,names=columns)\n",
    "print(cars.head(5))\n"
   ]
  },
  {
   "cell_type": "code",
   "execution_count": 7,
   "metadata": {
    "scrolled": true
   },
   "outputs": [
    {
     "name": "stdout",
     "output_type": "stream",
     "text": [
      "    mpg  cylinders  displacement horsepower  weight  acceleration  year  \\\n",
      "0  18.0          8         307.0      130.0  3504.0          12.0    70   \n",
      "1  15.0          8         350.0      165.0  3693.0          11.5    70   \n",
      "2  18.0          8         318.0      150.0  3436.0          11.0    70   \n",
      "3  16.0          8         304.0      150.0  3433.0          12.0    70   \n",
      "4  17.0          8         302.0      140.0  3449.0          10.5    70   \n",
      "\n",
      "   origin                   car name  cyl_3  cyl_4  cyl_5  cyl_6  cyl_8  \n",
      "0       1  chevrolet chevelle malibu      0      0      0      0      1  \n",
      "1       1          buick skylark 320      0      0      0      0      1  \n",
      "2       1         plymouth satellite      0      0      0      0      1  \n",
      "3       1              amc rebel sst      0      0      0      0      1  \n",
      "4       1                ford torino      0      0      0      0      1  \n",
      "    mpg  displacement horsepower  weight  acceleration  origin  \\\n",
      "0  18.0         307.0      130.0  3504.0          12.0       1   \n",
      "1  15.0         350.0      165.0  3693.0          11.5       1   \n",
      "2  18.0         318.0      150.0  3436.0          11.0       1   \n",
      "3  16.0         304.0      150.0  3433.0          12.0       1   \n",
      "4  17.0         302.0      140.0  3449.0          10.5       1   \n",
      "\n",
      "                    car name  cyl_3  cyl_4  cyl_5  ...  year_73  year_74  \\\n",
      "0  chevrolet chevelle malibu      0      0      0  ...        0        0   \n",
      "1          buick skylark 320      0      0      0  ...        0        0   \n",
      "2         plymouth satellite      0      0      0  ...        0        0   \n",
      "3              amc rebel sst      0      0      0  ...        0        0   \n",
      "4                ford torino      0      0      0  ...        0        0   \n",
      "\n",
      "   year_75  year_76  year_77  year_78  year_79  year_80  year_81  year_82  \n",
      "0        0        0        0        0        0        0        0        0  \n",
      "1        0        0        0        0        0        0        0        0  \n",
      "2        0        0        0        0        0        0        0        0  \n",
      "3        0        0        0        0        0        0        0        0  \n",
      "4        0        0        0        0        0        0        0        0  \n",
      "\n",
      "[5 rows x 25 columns]\n"
     ]
    }
   ],
   "source": [
    "dummy_cylinders=pd.get_dummies(cars[\"cylinders\"],prefix=\"cyl\")\n",
    "cars=pd.concat([cars,dummy_cylinders],axis=1)\n",
    "print(cars.head())\n",
    "dummy_years=pd.get_dummies(cars[\"year\"],prefix=\"year\")\n",
    "cars=pd.concat([cars,dummy_years],axis=1)\n",
    "cars=cars.drop(\"year\",axis=1)\n",
    "cars=cars.drop(\"cylinders\",axis=1)\n",
    "print(cars.head())"
   ]
  },
  {
   "cell_type": "code",
   "execution_count": 8,
   "metadata": {},
   "outputs": [],
   "source": [
    "import numpy as np\n",
    "shuffled_rows=np.random.permutation(cars.index)\n",
    "shuffled_cars=cars.iloc[shuffled_rows]\n",
    "highest_train_row=int(cars.shape[0]*.70)\n",
    "train=shuffled_cars.iloc[0:highest_train_row]\n",
    "test=shuffled_cars.iloc[highest_train_row:]"
   ]
  },
  {
   "cell_type": "code",
   "execution_count": 11,
   "metadata": {},
   "outputs": [
    {
     "name": "stderr",
     "output_type": "stream",
     "text": [
      "d:\\ProgramData\\Anaconda3\\lib\\site-packages\\sklearn\\linear_model\\logistic.py:432: FutureWarning: Default solver will be changed to 'lbfgs' in 0.22. Specify a solver to silence this warning.\n",
      "  FutureWarning)\n",
      "d:\\ProgramData\\Anaconda3\\lib\\site-packages\\sklearn\\linear_model\\logistic.py:432: FutureWarning: Default solver will be changed to 'lbfgs' in 0.22. Specify a solver to silence this warning.\n",
      "  FutureWarning)\n",
      "d:\\ProgramData\\Anaconda3\\lib\\site-packages\\sklearn\\linear_model\\logistic.py:432: FutureWarning: Default solver will be changed to 'lbfgs' in 0.22. Specify a solver to silence this warning.\n",
      "  FutureWarning)\n"
     ]
    }
   ],
   "source": [
    "from sklearn.linear_model import LogisticRegression\n",
    "\n",
    "unique_origins=cars[\"origin\"].unique()\n",
    "unique_origins.sort()\n",
    "\n",
    "models={}\n",
    "features=[c for c in train.columns if c.startswith(\"cy1\") or c.startswith(\"year\")]\n",
    "\n",
    "for origin in unique_origins:\n",
    "    model=LogisticRegression()\n",
    "    X_train=train[features]\n",
    "    y_train=train[\"origin\"]==origin\n",
    "    model.fit(X_train,y_train)\n",
    "    models[origin]=model"
   ]
  },
  {
   "cell_type": "code",
   "execution_count": 17,
   "metadata": {
    "scrolled": true
   },
   "outputs": [
    {
     "name": "stdout",
     "output_type": "stream",
     "text": [
      "Empty DataFrame\n",
      "Columns: [1, 2, 3]\n",
      "Index: []\n",
      "            1         2         3\n",
      "0    0.524373  0.241350  0.231903\n",
      "1    0.755700  0.135327  0.127987\n",
      "2    0.517416  0.177169  0.305570\n",
      "3    0.644606  0.242692  0.123589\n",
      "4    0.648964  0.228254  0.130967\n",
      "5    0.694440  0.114902  0.203290\n",
      "6    0.746451  0.166429  0.102980\n",
      "7    0.755700  0.135327  0.127987\n",
      "8    0.672892  0.241350  0.104112\n",
      "9    0.567539  0.179703  0.254799\n",
      "10   0.746451  0.166429  0.102980\n",
      "11   0.341374  0.351562  0.298274\n",
      "12   0.746451  0.166429  0.102980\n",
      "13   0.648964  0.228254  0.130967\n",
      "14   0.733749  0.187291  0.100374\n",
      "15   0.672892  0.241350  0.104112\n",
      "16   0.613702  0.197406  0.191957\n",
      "17   0.694440  0.114902  0.203290\n",
      "18   0.341374  0.351562  0.298274\n",
      "19   0.647024  0.217297  0.143461\n",
      "20   0.341374  0.351562  0.298274\n",
      "21   0.567539  0.179703  0.254799\n",
      "22   0.672892  0.241350  0.104112\n",
      "23   0.733749  0.187291  0.100374\n",
      "24   0.613702  0.197406  0.191957\n",
      "25   0.755700  0.135327  0.127987\n",
      "26   0.647024  0.217297  0.143461\n",
      "27   0.517416  0.177169  0.305570\n",
      "28   0.647024  0.217297  0.143461\n",
      "29   0.648964  0.228254  0.130967\n",
      "..        ...       ...       ...\n",
      "90   0.672892  0.241350  0.104112\n",
      "91   0.733749  0.187291  0.100374\n",
      "92   0.755700  0.135327  0.127987\n",
      "93   0.524373  0.241350  0.231903\n",
      "94   0.733749  0.187291  0.100374\n",
      "95   0.341374  0.351562  0.298274\n",
      "96   0.755700  0.135327  0.127987\n",
      "97   0.613702  0.197406  0.191957\n",
      "98   0.517416  0.177169  0.305570\n",
      "99   0.644606  0.242692  0.123589\n",
      "100  0.647024  0.217297  0.143461\n",
      "101  0.694440  0.114902  0.203290\n",
      "102  0.644606  0.242692  0.123589\n",
      "103  0.672892  0.241350  0.104112\n",
      "104  0.746451  0.166429  0.102980\n",
      "105  0.672892  0.241350  0.104112\n",
      "106  0.672892  0.241350  0.104112\n",
      "107  0.648964  0.228254  0.130967\n",
      "108  0.613702  0.197406  0.191957\n",
      "109  0.567539  0.179703  0.254799\n",
      "110  0.672892  0.241350  0.104112\n",
      "111  0.746451  0.166429  0.102980\n",
      "112  0.517416  0.177169  0.305570\n",
      "113  0.517416  0.177169  0.305570\n",
      "114  0.341374  0.351562  0.298274\n",
      "115  0.341374  0.351562  0.298274\n",
      "116  0.746451  0.166429  0.102980\n",
      "117  0.672892  0.241350  0.104112\n",
      "118  0.567539  0.179703  0.254799\n",
      "119  0.755700  0.135327  0.127987\n",
      "\n",
      "[120 rows x 3 columns]\n"
     ]
    }
   ],
   "source": [
    "testing_probs=pd.DataFrame(columns=unique_origins)\n",
    "print(testing_probs)\n",
    "for origin in unique_origins:\n",
    "    X_test=test[features]\n",
    "    testing_probs[origin]=models[origin].predict_proba(X_test)[:,1]\n",
    "print(testing_probs)"
   ]
  },
  {
   "cell_type": "code",
   "execution_count": 15,
   "metadata": {
    "scrolled": true
   },
   "outputs": [
    {
     "name": "stdout",
     "output_type": "stream",
     "text": [
      "0      1\n",
      "1      1\n",
      "2      1\n",
      "3      1\n",
      "4      1\n",
      "5      1\n",
      "6      1\n",
      "7      1\n",
      "8      1\n",
      "9      1\n",
      "10     1\n",
      "11     2\n",
      "12     1\n",
      "13     1\n",
      "14     1\n",
      "15     1\n",
      "16     1\n",
      "17     1\n",
      "18     2\n",
      "19     1\n",
      "20     2\n",
      "21     1\n",
      "22     1\n",
      "23     1\n",
      "24     1\n",
      "25     1\n",
      "26     1\n",
      "27     1\n",
      "28     1\n",
      "29     1\n",
      "      ..\n",
      "90     1\n",
      "91     1\n",
      "92     1\n",
      "93     1\n",
      "94     1\n",
      "95     2\n",
      "96     1\n",
      "97     1\n",
      "98     1\n",
      "99     1\n",
      "100    1\n",
      "101    1\n",
      "102    1\n",
      "103    1\n",
      "104    1\n",
      "105    1\n",
      "106    1\n",
      "107    1\n",
      "108    1\n",
      "109    1\n",
      "110    1\n",
      "111    1\n",
      "112    1\n",
      "113    1\n",
      "114    2\n",
      "115    2\n",
      "116    1\n",
      "117    1\n",
      "118    1\n",
      "119    1\n",
      "Length: 120, dtype: int64\n"
     ]
    }
   ],
   "source": [
    "predict_origins=testing_probs.idxmax(axis=1)\n",
    "print(predict_origins)"
   ]
  },
  {
   "cell_type": "code",
   "execution_count": null,
   "metadata": {},
   "outputs": [],
   "source": []
  }
 ],
 "metadata": {
  "kernelspec": {
   "display_name": "Python 3",
   "language": "python",
   "name": "python3"
  },
  "language_info": {
   "codemirror_mode": {
    "name": "ipython",
    "version": 3
   },
   "file_extension": ".py",
   "mimetype": "text/x-python",
   "name": "python",
   "nbconvert_exporter": "python",
   "pygments_lexer": "ipython3",
   "version": "3.7.3"
  }
 },
 "nbformat": 4,
 "nbformat_minor": 2
}
